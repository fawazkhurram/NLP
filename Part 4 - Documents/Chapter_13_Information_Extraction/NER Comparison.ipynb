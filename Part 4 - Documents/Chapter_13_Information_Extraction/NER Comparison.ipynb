{
 "cells": [
  {
   "cell_type": "markdown",
   "metadata": {},
   "source": [
    "# Comparison of NER systems"
   ]
  },
  {
   "cell_type": "code",
   "execution_count": 15,
   "metadata": {},
   "outputs": [],
   "source": [
    "text = \"\"\"The Hawaiian Islands became the fiftieth US state in 1959.\n",
    "          Since the passage of the Social Security Indexing Act of 1972, the level of Social Security benefits increases each year along with the Consumer Price Index. \n",
    "          The leading case, perhaps the most studied case, in all the common law is Hadley v. Baxendale, decided in England in 1854. \n",
    "          Lyndon Baines Johnson (August 27, 1908 – January 22, 1973), often referred to as LBJ, was an American politician who served as the 36th president of the United States from 1963 to 1969.\n",
    "    \"\"\" \n",
    "        "
   ]
  },
  {
   "cell_type": "markdown",
   "metadata": {},
   "source": [
    "# Stanford NLP\n",
    "\n",
    "An online demo of Stanford NER is available [at this link](http://nlp.stanford.edu:8080/ner/)"
   ]
  },
  {
   "cell_type": "code",
   "execution_count": 16,
   "metadata": {},
   "outputs": [],
   "source": [
    "from stanfordnlp.server import CoreNLPClient\n",
    "\n",
    "import os\n",
    "os.environ['CORENLP_HOME'] = r'/Users/mazidi/stanford-corenlp-full-2018-10-05'"
   ]
  },
  {
   "cell_type": "code",
   "execution_count": 17,
   "metadata": {},
   "outputs": [
    {
     "name": "stdout",
     "output_type": "stream",
     "text": [
      "Starting server with command: java -Xmx16G -cp /Users/mazidi/stanford-corenlp-full-2018-10-05/* edu.stanford.nlp.pipeline.StanfordCoreNLPServer -port 9000 -timeout 60000 -threads 5 -maxCharLength 100000 -quiet True -serverProperties corenlp_server-e2f00d45e81a4cd4.props -preload tokenize,ssplit,pos,lemma,ner\n",
      "\n",
      "Tokens \t POS \t NER\n",
      "\n",
      "Sentence 1\n",
      "Hawaiian \t JJ \t LOCATION\n",
      "Islands \t NNPS \t LOCATION\n",
      "fiftieth \t NN \t ORDINAL\n",
      "US \t NNP \t COUNTRY\n",
      "1959 \t CD \t DATE\n",
      "\n",
      "Sentence 2\n",
      "Social \t NNP \t MISC\n",
      "Security \t NNP \t MISC\n",
      "Indexing \t NN \t MISC\n",
      "Act \t NN \t MISC\n",
      "1972 \t CD \t DATE\n",
      "each \t DT \t SET\n",
      "year \t NN \t SET\n",
      "Consumer \t NNP \t MISC\n",
      "Price \t NNP \t MISC\n",
      "Index \t NNP \t MISC\n",
      "\n",
      "Sentence 3\n",
      "Hadley \t NNP \t PERSON\n",
      "Baxendale \t NNP \t PERSON\n",
      "England \t NNP \t COUNTRY\n",
      "1854 \t CD \t DATE\n",
      "\n",
      "Sentence 4\n",
      "Lyndon \t NNP \t PERSON\n",
      "Baines \t NNP \t PERSON\n",
      "Johnson \t NNP \t PERSON\n",
      "August \t NNP \t DATE\n",
      "27 \t CD \t DATE\n",
      ", \t , \t DATE\n",
      "1908 \t CD \t DATE\n",
      "January \t NNP \t DATE\n",
      "22 \t CD \t DATE\n",
      ", \t , \t DATE\n",
      "1973 \t CD \t DATE\n",
      "LBJ \t NNP \t ORGANIZATION\n",
      "American \t JJ \t NATIONALITY\n",
      "politician \t NN \t TITLE\n",
      "36th \t JJ \t ORDINAL\n",
      "president \t NN \t TITLE\n",
      "United \t NNP \t COUNTRY\n",
      "States \t NNPS \t COUNTRY\n",
      "1963 \t CD \t DATE\n",
      "to \t TO \t DATE\n",
      "1969 \t CD \t DATE\n"
     ]
    }
   ],
   "source": [
    "# set up the client\n",
    "with CoreNLPClient(annotators=['tokenize','ssplit','pos','lemma','ner'], timeout=60000, memory='16G') as client:\n",
    "    # submit the request to the server\n",
    "    ann = client.annotate(text)\n",
    "    \n",
    "    print('\\nTokens \\t POS \\t NER')\n",
    "    sentence_count = 1\n",
    "    for sentence in ann.sentence:\n",
    "        print('\\nSentence', sentence_count)\n",
    "        for token in sentence.token:\n",
    "            if token.ner != 'O':\n",
    "                print (token.word, '\\t', token.pos, '\\t', token.ner)\n",
    "            \n",
    "        sentence_count += 1"
   ]
  },
  {
   "cell_type": "markdown",
   "metadata": {},
   "source": [
    "# SpaCy"
   ]
  },
  {
   "cell_type": "code",
   "execution_count": 18,
   "metadata": {},
   "outputs": [],
   "source": [
    "import spacy\n",
    "\n",
    "nlp = spacy.load('en_core_web_md')"
   ]
  },
  {
   "cell_type": "code",
   "execution_count": 19,
   "metadata": {},
   "outputs": [
    {
     "name": "stdout",
     "output_type": "stream",
     "text": [
      "Hawaiian Islands GPE\n",
      "fiftieth ORDINAL\n",
      "US GPE\n",
      "1959 DATE\n",
      "the Social Security Indexing Act LAW\n",
      "1972 DATE\n",
      "Social Security ORG\n",
      "each year DATE\n",
      "Hadley v. Baxendale PERSON\n",
      "England GPE\n",
      "1854 DATE\n",
      "Lyndon Baines Johnson PERSON\n",
      "August 27, 1908 – January 22, 1973 DATE\n",
      "LBJ PERSON\n",
      "American NORP\n",
      "36th ORDINAL\n",
      "the United States GPE\n",
      "1963 to 1969 DATE\n"
     ]
    }
   ],
   "source": [
    "doc = nlp(text)\n",
    "\n",
    "for ent in doc.ents:\n",
    "    print(ent.text, ent.label_)"
   ]
  },
  {
   "cell_type": "code",
   "execution_count": null,
   "metadata": {},
   "outputs": [],
   "source": []
  }
 ],
 "metadata": {
  "kernelspec": {
   "display_name": "Python 3",
   "language": "python",
   "name": "python3"
  },
  "language_info": {
   "codemirror_mode": {
    "name": "ipython",
    "version": 3
   },
   "file_extension": ".py",
   "mimetype": "text/x-python",
   "name": "python",
   "nbconvert_exporter": "python",
   "pygments_lexer": "ipython3",
   "version": "3.7.3"
  }
 },
 "nbformat": 4,
 "nbformat_minor": 2
}
